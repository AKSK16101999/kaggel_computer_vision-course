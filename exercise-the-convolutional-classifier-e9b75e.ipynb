{
 "cells": [
  {
   "cell_type": "markdown",
   "metadata": {},
   "source": [
    "**This notebook is an exercise in the [Computer Vision](https://www.kaggle.com/learn/computer-vision) course.  You can reference the tutorial at [this link](https://www.kaggle.com/ryanholbrook/the-convolutional-classifier).**\n",
    "\n",
    "---\n"
   ]
  },
  {
   "cell_type": "markdown",
   "metadata": {},
   "source": [
    "<blockquote style=\"margin-right:auto; margin-left:auto; background-color: #ebf9ff; padding: 1em; margin:24px;\">\n",
    "    <strong>Accelerate Training with a Kaggle GPU!</strong><br>\n",
    "Did you know Kaggle offers free time with a GPU accelerator? You can speed up training neural networks in this course by switching to <strong>GPU</strong> in the <em>Accelerator</em> option on the right. (It may already be turned on.) Two things to be aware of:\n",
    "<ul>\n",
    "<li>Changing the <em>Accelerator</em> option will cause the notebook session to restart. You'll need to rerun any setup code.\n",
    "<li>You can have only one GPU session at a time, so be sure to shut the notebook down after you've finished the exercise.\n",
    "</ul>\n",
    "</blockquote>"
   ]
  },
  {
   "cell_type": "markdown",
   "metadata": {},
   "source": [
    "# Introduction #\n",
    "\n",
    "In the tutorial, we saw how to build an image classifier by attaching a head of dense layers to a pretrained base. The base we used was from a model called **VGG16**. We saw that the VGG16 architecture was prone to overfitting this dataset. Over this course, you'll learn a number of ways you can improve upon this initial attempt.\n",
    "\n",
    "The first way you'll see is to use a base more appropriate to the dataset. The base this model comes from is called **InceptionV1** (also known as GoogLeNet). InceptionV1 was one of the early winners of the ImageNet competition. One of its successors, InceptionV4, is among the state of the art today.\n",
    "\n",
    "To get started, run the code cell below to set everything up."
   ]
  },
  {
   "cell_type": "code",
   "execution_count": 1,
   "metadata": {
    "execution": {
     "iopub.execute_input": "2021-07-16T15:30:12.793269Z",
     "iopub.status.busy": "2021-07-16T15:30:12.792800Z",
     "iopub.status.idle": "2021-07-16T15:30:25.034664Z",
     "shell.execute_reply": "2021-07-16T15:30:25.033547Z",
     "shell.execute_reply.started": "2021-07-16T15:30:12.793148Z"
    },
    "lines_to_next_cell": 2
   },
   "outputs": [
    {
     "name": "stdout",
     "output_type": "stream",
     "text": [
      "Found 5117 files belonging to 2 classes.\n",
      "Found 5051 files belonging to 2 classes.\n"
     ]
    }
   ],
   "source": [
    "# Setup feedback system\n",
    "from learntools.core import binder\n",
    "binder.bind(globals())\n",
    "from learntools.computer_vision.ex1 import *\n",
    "\n",
    "# Imports\n",
    "import os, warnings\n",
    "import matplotlib.pyplot as plt\n",
    "from matplotlib import gridspec\n",
    "\n",
    "import numpy as np\n",
    "import tensorflow as tf\n",
    "from tensorflow.keras.preprocessing import image_dataset_from_directory\n",
    "\n",
    "# Reproducability\n",
    "def set_seed(seed=31415):\n",
    "    np.random.seed(seed)\n",
    "    tf.random.set_seed(seed)\n",
    "    os.environ['PYTHONHASHSEED'] = str(seed)\n",
    "    os.environ['TF_DETERMINISTIC_OPS'] = '1'\n",
    "set_seed()\n",
    "\n",
    "# Set Matplotlib defaults\n",
    "plt.rc('figure', autolayout=True)\n",
    "plt.rc('axes', labelweight='bold', labelsize='large',\n",
    "       titleweight='bold', titlesize=18, titlepad=10)\n",
    "plt.rc('image', cmap='magma')\n",
    "warnings.filterwarnings(\"ignore\") # to clean up output cells\n",
    "\n",
    "\n",
    "# Load training and validation sets\n",
    "ds_train_ = image_dataset_from_directory(\n",
    "    '../input/car-or-truck/train',\n",
    "    labels='inferred',\n",
    "    label_mode='binary',\n",
    "    image_size=[128, 128],\n",
    "    interpolation='nearest',\n",
    "    batch_size=64,\n",
    "    shuffle=True,\n",
    ")\n",
    "ds_valid_ = image_dataset_from_directory(\n",
    "    '../input/car-or-truck/valid',\n",
    "    labels='inferred',\n",
    "    label_mode='binary',\n",
    "    image_size=[128, 128],\n",
    "    interpolation='nearest',\n",
    "    batch_size=64,\n",
    "    shuffle=False,\n",
    ")\n",
    "\n",
    "# Data Pipeline\n",
    "def convert_to_float(image, label):\n",
    "    image = tf.image.convert_image_dtype(image, dtype=tf.float32)\n",
    "    return image, label\n",
    "\n",
    "AUTOTUNE = tf.data.experimental.AUTOTUNE\n",
    "ds_train = (\n",
    "    ds_train_\n",
    "    .map(convert_to_float)\n",
    "    .cache()\n",
    "    .prefetch(buffer_size=AUTOTUNE)\n",
    ")\n",
    "ds_valid = (\n",
    "    ds_valid_\n",
    "    .map(convert_to_float)\n",
    "    .cache()\n",
    "    .prefetch(buffer_size=AUTOTUNE)\n",
    ")\n"
   ]
  },
  {
   "cell_type": "markdown",
   "metadata": {},
   "source": [
    "The **InceptionV1** model pretrained on ImageNet is available in the [TensorFlow Hub](https://www.tensorflow.org/hub/) repository, but we'll load it from a local copy. Run this cell to load InceptionV1 for your base."
   ]
  },
  {
   "cell_type": "code",
   "execution_count": 2,
   "metadata": {
    "execution": {
     "iopub.execute_input": "2021-07-16T15:31:30.886632Z",
     "iopub.status.busy": "2021-07-16T15:31:30.886266Z",
     "iopub.status.idle": "2021-07-16T15:31:35.835363Z",
     "shell.execute_reply": "2021-07-16T15:31:35.834186Z",
     "shell.execute_reply.started": "2021-07-16T15:31:30.886602Z"
    },
    "lines_to_next_cell": 0
   },
   "outputs": [],
   "source": [
    "import tensorflow_hub as hub\n",
    "\n",
    "pretrained_base = tf.keras.models.load_model(\n",
    "    '../input/cv-course-models/cv-course-models/inceptionv1'\n",
    ")"
   ]
  },
  {
   "cell_type": "markdown",
   "metadata": {},
   "source": [
    "# 1) Define Pretrained Base #\n",
    "\n",
    "Now that you have a pretrained base to do our feature extraction, decide whether this base should be trainable or not."
   ]
  },
  {
   "cell_type": "code",
   "execution_count": 3,
   "metadata": {
    "execution": {
     "iopub.execute_input": "2021-07-16T15:34:02.936294Z",
     "iopub.status.busy": "2021-07-16T15:34:02.935867Z",
     "iopub.status.idle": "2021-07-16T15:34:06.789254Z",
     "shell.execute_reply": "2021-07-16T15:34:06.788016Z",
     "shell.execute_reply.started": "2021-07-16T15:34:02.936264Z"
    },
    "lines_to_next_cell": 0
   },
   "outputs": [
    {
     "data": {
      "application/javascript": [
       "parent.postMessage({\"jupyterEvent\": \"custom.exercise_interaction\", \"data\": {\"outcomeType\": 1, \"valueTowardsCompletion\": 0.25, \"interactionType\": 1, \"questionType\": 2, \"questionId\": \"1_Q1\", \"learnToolsVersion\": \"0.3.4\", \"failureMessage\": \"\", \"exceptionClass\": \"\", \"trace\": \"\"}}, \"*\")"
      ],
      "text/plain": [
       "<IPython.core.display.Javascript object>"
      ]
     },
     "metadata": {},
     "output_type": "display_data"
    },
    {
     "data": {
      "text/markdown": [
       "<span style=\"color:#33cc33\">Correct:</span> When doing transfer learning, it's generally not a good idea to retrain the entire base -- at least not without some care. The reason is that the random weights in the head will initially create large gradient updates, which propogate back into the base layers and destroy much of the pretraining. Using techniques known as **fine tuning** it's possible to further train the base on new data, but this requires some care to do well."
      ],
      "text/plain": [
       "Correct: When doing transfer learning, it's generally not a good idea to retrain the entire base -- at least not without some care. The reason is that the random weights in the head will initially create large gradient updates, which propogate back into the base layers and destroy much of the pretraining. Using techniques known as **fine tuning** it's possible to further train the base on new data, but this requires some care to do well."
      ]
     },
     "metadata": {},
     "output_type": "display_data"
    }
   ],
   "source": [
    "# YOUR_CODE_HERE\n",
    "pretrained_base.trainable =tf.keras.models.load_model(\n",
    "    '../input/cv-course-models/cv-course-models/inceptionv1',\n",
    ")\n",
    "pretrained_base.trainable = False\n",
    "\n",
    "\n",
    "# Check your answer\n",
    "q_1.check()"
   ]
  },
  {
   "cell_type": "code",
   "execution_count": 5,
   "metadata": {
    "execution": {
     "iopub.execute_input": "2021-07-16T15:34:59.866696Z",
     "iopub.status.busy": "2021-07-16T15:34:59.866315Z",
     "iopub.status.idle": "2021-07-16T15:34:59.883248Z",
     "shell.execute_reply": "2021-07-16T15:34:59.881838Z",
     "shell.execute_reply.started": "2021-07-16T15:34:59.866665Z"
    }
   },
   "outputs": [
    {
     "data": {
      "application/javascript": [
       "parent.postMessage({\"jupyterEvent\": \"custom.exercise_interaction\", \"data\": {\"interactionType\": 2, \"questionType\": 2, \"questionId\": \"1_Q1\", \"learnToolsVersion\": \"0.3.4\", \"valueTowardsCompletion\": 0.0, \"failureMessage\": \"\", \"exceptionClass\": \"\", \"trace\": \"\", \"outcomeType\": 4}}, \"*\")"
      ],
      "text/plain": [
       "<IPython.core.display.Javascript object>"
      ]
     },
     "metadata": {},
     "output_type": "display_data"
    },
    {
     "data": {
      "text/markdown": [
       "<span style=\"color:#3366cc\">Hint:</span> `True` or `False`?"
      ],
      "text/plain": [
       "Hint: `True` or `False`?"
      ]
     },
     "metadata": {},
     "output_type": "display_data"
    },
    {
     "data": {
      "application/javascript": [
       "parent.postMessage({\"jupyterEvent\": \"custom.exercise_interaction\", \"data\": {\"interactionType\": 3, \"questionType\": 2, \"questionId\": \"1_Q1\", \"learnToolsVersion\": \"0.3.4\", \"valueTowardsCompletion\": 0.0, \"failureMessage\": \"\", \"exceptionClass\": \"\", \"trace\": \"\", \"outcomeType\": 4}}, \"*\")"
      ],
      "text/plain": [
       "<IPython.core.display.Javascript object>"
      ]
     },
     "metadata": {},
     "output_type": "display_data"
    },
    {
     "data": {
      "text/markdown": [
       "<span style=\"color:#33cc99\">Solution:</span> \n",
       "```python\n",
       "pretrained_base.trainable = False\n",
       "```"
      ],
      "text/plain": [
       "Solution: \n",
       "```python\n",
       "pretrained_base.trainable = False\n",
       "```"
      ]
     },
     "metadata": {},
     "output_type": "display_data"
    }
   ],
   "source": [
    "# Lines below will give you a hint or solution code\n",
    "q_1.hint()\n",
    "q_1.solution()"
   ]
  },
  {
   "cell_type": "markdown",
   "metadata": {},
   "source": [
    "# 2) Attach Head #\n",
    "\n",
    "Now that the base is defined to do the feature extraction, create a head of `Dense` layers to perform the classification, following this diagram:\n",
    "\n",
    "<figure>\n",
    "<img src=\"https://i.imgur.com/i5VU7Ry.png\" alt=\"Diagram of the dense head.\">\n",
    "</figure>\n"
   ]
  },
  {
   "cell_type": "code",
   "execution_count": 6,
   "metadata": {
    "execution": {
     "iopub.execute_input": "2021-07-16T15:36:43.795281Z",
     "iopub.status.busy": "2021-07-16T15:36:43.794860Z",
     "iopub.status.idle": "2021-07-16T15:36:43.820334Z",
     "shell.execute_reply": "2021-07-16T15:36:43.818797Z",
     "shell.execute_reply.started": "2021-07-16T15:36:43.795248Z"
    },
    "lines_to_next_cell": 0
   },
   "outputs": [
    {
     "data": {
      "application/javascript": [
       "parent.postMessage({\"jupyterEvent\": \"custom.exercise_interaction\", \"data\": {\"outcomeType\": 1, \"valueTowardsCompletion\": 0.25, \"interactionType\": 1, \"questionType\": 2, \"questionId\": \"2_Q2\", \"learnToolsVersion\": \"0.3.4\", \"failureMessage\": \"\", \"exceptionClass\": \"\", \"trace\": \"\"}}, \"*\")"
      ],
      "text/plain": [
       "<IPython.core.display.Javascript object>"
      ]
     },
     "metadata": {},
     "output_type": "display_data"
    },
    {
     "data": {
      "text/markdown": [
       "<span style=\"color:#33cc33\">Correct</span>"
      ],
      "text/plain": [
       "Correct"
      ]
     },
     "metadata": {},
     "output_type": "display_data"
    }
   ],
   "source": [
    "from tensorflow import keras\n",
    "from tensorflow.keras import layers\n",
    "\n",
    "model = keras.Sequential([\n",
    "    pretrained_base,\n",
    "    layers.Flatten(),\n",
    "    # YOUR CODE HERE. Attach a head of dense layers.\n",
    "    layers.Dense(6, activation='relu'),\n",
    "    layers.Dense(1, activation='sigmoid'),\n",
    "])\n",
    "# Check your answer\n",
    "q_2.check()"
   ]
  },
  {
   "cell_type": "code",
   "execution_count": 7,
   "metadata": {
    "execution": {
     "iopub.execute_input": "2021-07-16T15:37:05.113340Z",
     "iopub.status.busy": "2021-07-16T15:37:05.112959Z",
     "iopub.status.idle": "2021-07-16T15:37:05.128145Z",
     "shell.execute_reply": "2021-07-16T15:37:05.126734Z",
     "shell.execute_reply.started": "2021-07-16T15:37:05.113294Z"
    }
   },
   "outputs": [
    {
     "data": {
      "application/javascript": [
       "parent.postMessage({\"jupyterEvent\": \"custom.exercise_interaction\", \"data\": {\"interactionType\": 2, \"questionType\": 2, \"questionId\": \"2_Q2\", \"learnToolsVersion\": \"0.3.4\", \"valueTowardsCompletion\": 0.0, \"failureMessage\": \"\", \"exceptionClass\": \"\", \"trace\": \"\", \"outcomeType\": 4}}, \"*\")"
      ],
      "text/plain": [
       "<IPython.core.display.Javascript object>"
      ]
     },
     "metadata": {},
     "output_type": "display_data"
    },
    {
     "data": {
      "text/markdown": [
       "<span style=\"color:#3366cc\">Hint:</span> You need to add two new `Dense` layers. The first should have 6 units and `'relu'` activation. The second should have 1 unit and `'sigmoid'` activation."
      ],
      "text/plain": [
       "Hint: You need to add two new `Dense` layers. The first should have 6 units and `'relu'` activation. The second should have 1 unit and `'sigmoid'` activation."
      ]
     },
     "metadata": {},
     "output_type": "display_data"
    },
    {
     "data": {
      "application/javascript": [
       "parent.postMessage({\"jupyterEvent\": \"custom.exercise_interaction\", \"data\": {\"interactionType\": 3, \"questionType\": 2, \"questionId\": \"2_Q2\", \"learnToolsVersion\": \"0.3.4\", \"valueTowardsCompletion\": 0.0, \"failureMessage\": \"\", \"exceptionClass\": \"\", \"trace\": \"\", \"outcomeType\": 4}}, \"*\")"
      ],
      "text/plain": [
       "<IPython.core.display.Javascript object>"
      ]
     },
     "metadata": {},
     "output_type": "display_data"
    },
    {
     "data": {
      "text/markdown": [
       "<span style=\"color:#33cc99\">Solution:</span> \n",
       "```python\n",
       " \n",
       "from tensorflow import keras\n",
       "from tensorflow.keras import layers\n",
       "\n",
       "model = keras.Sequential([\n",
       "    pretrained_base,\n",
       "    layers.Flatten(),\n",
       "    layers.Dense(6, activation='relu'),\n",
       "    layers.Dense(1, activation='sigmoid'),\n",
       "])\n",
       "\n",
       "```"
      ],
      "text/plain": [
       "Solution: \n",
       "```python\n",
       " \n",
       "from tensorflow import keras\n",
       "from tensorflow.keras import layers\n",
       "\n",
       "model = keras.Sequential([\n",
       "    pretrained_base,\n",
       "    layers.Flatten(),\n",
       "    layers.Dense(6, activation='relu'),\n",
       "    layers.Dense(1, activation='sigmoid'),\n",
       "])\n",
       "\n",
       "```"
      ]
     },
     "metadata": {},
     "output_type": "display_data"
    }
   ],
   "source": [
    "# Lines below will give you a hint or solution code\n",
    "q_2.hint()\n",
    "q_2.solution()"
   ]
  },
  {
   "cell_type": "markdown",
   "metadata": {},
   "source": [
    "# 3) Train #\n",
    "\n",
    "Before training a model in Keras, you need to specify an *optimizer* to perform the gradient descent, a *loss function* to be minimized, and (optionally) any *performance metrics*. The optimization algorithm we'll use for this course is called [\"Adam\"](https://keras.io/api/optimizers/adam/), which generally performs well regardless of what kind of problem you're trying to solve.\n",
    "\n",
    "The loss and the metrics, however, need to match the kind of problem you're trying to solve. Our problem is a **binary classification** problem: `Car` coded as 0, and `Truck` coded as 1. Choose an appropriate loss and an appropriate accuracy metric for binary classification."
   ]
  },
  {
   "cell_type": "code",
   "execution_count": 8,
   "metadata": {
    "execution": {
     "iopub.execute_input": "2021-07-16T15:38:34.443809Z",
     "iopub.status.busy": "2021-07-16T15:38:34.443362Z",
     "iopub.status.idle": "2021-07-16T15:38:34.471782Z",
     "shell.execute_reply": "2021-07-16T15:38:34.470547Z",
     "shell.execute_reply.started": "2021-07-16T15:38:34.443779Z"
    },
    "lines_to_next_cell": 0
   },
   "outputs": [
    {
     "data": {
      "application/javascript": [
       "parent.postMessage({\"jupyterEvent\": \"custom.exercise_interaction\", \"data\": {\"outcomeType\": 1, \"valueTowardsCompletion\": 0.25, \"interactionType\": 1, \"questionType\": 2, \"questionId\": \"3_Q3\", \"learnToolsVersion\": \"0.3.4\", \"failureMessage\": \"\", \"exceptionClass\": \"\", \"trace\": \"\"}}, \"*\")"
      ],
      "text/plain": [
       "<IPython.core.display.Javascript object>"
      ]
     },
     "metadata": {},
     "output_type": "display_data"
    },
    {
     "data": {
      "text/markdown": [
       "<span style=\"color:#33cc33\">Correct</span>"
      ],
      "text/plain": [
       "Correct"
      ]
     },
     "metadata": {},
     "output_type": "display_data"
    }
   ],
   "source": [
    "# YOUR CODE HERE: what loss function should you use for a binary\n",
    "# classification problem? (Your answer for each should be a string.)\n",
    "optimizer = tf.keras.optimizers.Adam(epsilon=0.01)\n",
    "model.compile(\n",
    "    optimizer='adam',\n",
    "    loss='binary_crossentropy',\n",
    "    metrics=['binary_accuracy'],\n",
    ")\n",
    "# Check your answer\n",
    "q_3.check()"
   ]
  },
  {
   "cell_type": "code",
   "execution_count": null,
   "metadata": {
    "lines_to_next_cell": 0
   },
   "outputs": [],
   "source": [
    "# Lines below will give you a hint or solution code\n",
    "#q_3.hint()\n",
    "#q_3.solution()"
   ]
  },
  {
   "cell_type": "code",
   "execution_count": 10,
   "metadata": {
    "execution": {
     "iopub.execute_input": "2021-07-16T15:50:24.531253Z",
     "iopub.status.busy": "2021-07-16T15:50:24.530784Z",
     "iopub.status.idle": "2021-07-16T15:52:31.698103Z",
     "shell.execute_reply": "2021-07-16T15:52:31.696925Z",
     "shell.execute_reply.started": "2021-07-16T15:50:24.531218Z"
    }
   },
   "outputs": [
    {
     "name": "stdout",
     "output_type": "stream",
     "text": [
      "Epoch 1/30\n",
      "80/80 [==============================] - 4s 54ms/step - loss: 0.2894 - binary_accuracy: 0.9009 - val_loss: 0.3588 - val_binary_accuracy: 0.8569\n",
      "Epoch 2/30\n",
      "80/80 [==============================] - 4s 52ms/step - loss: 0.2864 - binary_accuracy: 0.9025 - val_loss: 0.3579 - val_binary_accuracy: 0.8577\n",
      "Epoch 3/30\n",
      "80/80 [==============================] - 4s 52ms/step - loss: 0.2834 - binary_accuracy: 0.9029 - val_loss: 0.3575 - val_binary_accuracy: 0.8584\n",
      "Epoch 4/30\n",
      "80/80 [==============================] - 4s 53ms/step - loss: 0.2806 - binary_accuracy: 0.9044 - val_loss: 0.3573 - val_binary_accuracy: 0.8584\n",
      "Epoch 5/30\n",
      "80/80 [==============================] - 4s 52ms/step - loss: 0.2782 - binary_accuracy: 0.9062 - val_loss: 0.3573 - val_binary_accuracy: 0.8590\n",
      "Epoch 6/30\n",
      "80/80 [==============================] - 4s 56ms/step - loss: 0.2758 - binary_accuracy: 0.9066 - val_loss: 0.3571 - val_binary_accuracy: 0.8590\n",
      "Epoch 7/30\n",
      "80/80 [==============================] - 4s 52ms/step - loss: 0.2734 - binary_accuracy: 0.9076 - val_loss: 0.3571 - val_binary_accuracy: 0.8584\n",
      "Epoch 8/30\n",
      "80/80 [==============================] - 4s 52ms/step - loss: 0.2714 - binary_accuracy: 0.9083 - val_loss: 0.3570 - val_binary_accuracy: 0.8586\n",
      "Epoch 9/30\n",
      "80/80 [==============================] - 4s 54ms/step - loss: 0.2693 - binary_accuracy: 0.9087 - val_loss: 0.3573 - val_binary_accuracy: 0.8584\n",
      "Epoch 10/30\n",
      "80/80 [==============================] - 4s 52ms/step - loss: 0.2674 - binary_accuracy: 0.9087 - val_loss: 0.3576 - val_binary_accuracy: 0.8588\n",
      "Epoch 11/30\n",
      "80/80 [==============================] - 4s 52ms/step - loss: 0.2655 - binary_accuracy: 0.9095 - val_loss: 0.3581 - val_binary_accuracy: 0.8586\n",
      "Epoch 12/30\n",
      "80/80 [==============================] - 4s 53ms/step - loss: 0.2640 - binary_accuracy: 0.9105 - val_loss: 0.3586 - val_binary_accuracy: 0.8575\n",
      "Epoch 13/30\n",
      "80/80 [==============================] - 4s 53ms/step - loss: 0.2624 - binary_accuracy: 0.9109 - val_loss: 0.3593 - val_binary_accuracy: 0.8580\n",
      "Epoch 14/30\n",
      "80/80 [==============================] - 4s 54ms/step - loss: 0.2608 - binary_accuracy: 0.9119 - val_loss: 0.3598 - val_binary_accuracy: 0.8578\n",
      "Epoch 15/30\n",
      "80/80 [==============================] - 4s 52ms/step - loss: 0.2595 - binary_accuracy: 0.9132 - val_loss: 0.3607 - val_binary_accuracy: 0.8582\n",
      "Epoch 16/30\n",
      "80/80 [==============================] - 4s 52ms/step - loss: 0.2581 - binary_accuracy: 0.9130 - val_loss: 0.3616 - val_binary_accuracy: 0.8586\n",
      "Epoch 17/30\n",
      "80/80 [==============================] - 4s 54ms/step - loss: 0.2568 - binary_accuracy: 0.9134 - val_loss: 0.3630 - val_binary_accuracy: 0.8584\n",
      "Epoch 18/30\n",
      "80/80 [==============================] - 4s 52ms/step - loss: 0.2549 - binary_accuracy: 0.9130 - val_loss: 0.3645 - val_binary_accuracy: 0.8584\n",
      "Epoch 19/30\n",
      "80/80 [==============================] - 4s 53ms/step - loss: 0.2535 - binary_accuracy: 0.9148 - val_loss: 0.3653 - val_binary_accuracy: 0.8584\n",
      "Epoch 20/30\n",
      "80/80 [==============================] - 4s 53ms/step - loss: 0.2526 - binary_accuracy: 0.9152 - val_loss: 0.3660 - val_binary_accuracy: 0.8586\n",
      "Epoch 21/30\n",
      "80/80 [==============================] - 4s 54ms/step - loss: 0.2513 - binary_accuracy: 0.9156 - val_loss: 0.3674 - val_binary_accuracy: 0.8577\n",
      "Epoch 22/30\n",
      "80/80 [==============================] - 4s 54ms/step - loss: 0.2496 - binary_accuracy: 0.9158 - val_loss: 0.3681 - val_binary_accuracy: 0.8577\n",
      "Epoch 23/30\n",
      "80/80 [==============================] - 4s 52ms/step - loss: 0.2486 - binary_accuracy: 0.9162 - val_loss: 0.3690 - val_binary_accuracy: 0.8571\n",
      "Epoch 24/30\n",
      "80/80 [==============================] - 4s 52ms/step - loss: 0.2473 - binary_accuracy: 0.9173 - val_loss: 0.3697 - val_binary_accuracy: 0.8565\n",
      "Epoch 25/30\n",
      "80/80 [==============================] - 4s 53ms/step - loss: 0.2466 - binary_accuracy: 0.9166 - val_loss: 0.3713 - val_binary_accuracy: 0.8565\n",
      "Epoch 26/30\n",
      "80/80 [==============================] - 4s 52ms/step - loss: 0.2461 - binary_accuracy: 0.9169 - val_loss: 0.3716 - val_binary_accuracy: 0.8567\n",
      "Epoch 27/30\n",
      "80/80 [==============================] - 4s 53ms/step - loss: 0.2451 - binary_accuracy: 0.9167 - val_loss: 0.3724 - val_binary_accuracy: 0.8557\n",
      "Epoch 28/30\n",
      "80/80 [==============================] - 4s 52ms/step - loss: 0.2440 - binary_accuracy: 0.9175 - val_loss: 0.3736 - val_binary_accuracy: 0.8563\n",
      "Epoch 29/30\n",
      "80/80 [==============================] - 4s 54ms/step - loss: 0.2430 - binary_accuracy: 0.9177 - val_loss: 0.3747 - val_binary_accuracy: 0.8575\n",
      "Epoch 30/30\n",
      "80/80 [==============================] - 4s 55ms/step - loss: 0.2410 - binary_accuracy: 0.9171 - val_loss: 0.3767 - val_binary_accuracy: 0.8559\n"
     ]
    }
   ],
   "source": [
    "history = model.fit(\n",
    "    ds_train,\n",
    "    validation_data=ds_valid,\n",
    "    epochs=30,\n",
    ")"
   ]
  },
  {
   "cell_type": "markdown",
   "metadata": {},
   "source": [
    "Run the cell below to plot the loss and metric curves for this training run."
   ]
  },
  {
   "cell_type": "code",
   "execution_count": 11,
   "metadata": {
    "execution": {
     "iopub.execute_input": "2021-07-16T15:53:41.495357Z",
     "iopub.status.busy": "2021-07-16T15:53:41.494944Z",
     "iopub.status.idle": "2021-07-16T15:53:42.212799Z",
     "shell.execute_reply": "2021-07-16T15:53:42.211719Z",
     "shell.execute_reply.started": "2021-07-16T15:53:41.495325Z"
    }
   },
   "outputs": [
    {
     "data": {
      "image/png": "[encoded data removed]",
      "text/plain": [
       "<Figure size 432x288 with 1 Axes>"
      ]
     },
     "metadata": {
      "needs_background": "light"
     },
     "output_type": "display_data"
    },
    {
     "data": {
      "image/png": "[encoded data removed]",
      "text/plain": [
       "<Figure size 432x288 with 1 Axes>"
      ]
     },
     "metadata": {
      "needs_background": "light"
     },
     "output_type": "display_data"
    }
   ],
   "source": [
    "import pandas as pd\n",
    "history_frame = pd.DataFrame(history.history)\n",
    "history_frame.loc[:, ['loss', 'val_loss']].plot()\n",
    "history_frame.loc[:, ['binary_accuracy', 'val_binary_accuracy']].plot();"
   ]
  },
  {
   "cell_type": "markdown",
   "metadata": {},
   "source": [
    "# 4) Examine Loss and Accuracy #\n",
    "\n",
    "Do you notice a difference between these learning curves and the curves for VGG16 from the tutorial? What does this difference tell you about what this model (InceptionV2) learned compared to VGG16? Are there ways in which one is better than the other? Worse?\n",
    "\n",
    "After you've thought about it, run the cell below to see the answer."
   ]
  },
  {
   "cell_type": "code",
   "execution_count": 12,
   "metadata": {
    "execution": {
     "iopub.execute_input": "2021-07-16T15:54:58.526886Z",
     "iopub.status.busy": "2021-07-16T15:54:58.526456Z",
     "iopub.status.idle": "2021-07-16T15:54:58.536895Z",
     "shell.execute_reply": "2021-07-16T15:54:58.535507Z",
     "shell.execute_reply.started": "2021-07-16T15:54:58.526825Z"
    }
   },
   "outputs": [
    {
     "data": {
      "application/javascript": [
       "parent.postMessage({\"jupyterEvent\": \"custom.exercise_interaction\", \"data\": {\"outcomeType\": 1, \"valueTowardsCompletion\": 0.25, \"interactionType\": 1, \"questionType\": 4, \"questionId\": \"4_Q4\", \"learnToolsVersion\": \"0.3.4\", \"failureMessage\": \"\", \"exceptionClass\": \"\", \"trace\": \"\"}}, \"*\")"
      ],
      "text/plain": [
       "<IPython.core.display.Javascript object>"
      ]
     },
     "metadata": {},
     "output_type": "display_data"
    },
    {
     "data": {
      "text/markdown": [
       "<span style=\"color:#33cc33\">Correct:</span> \n",
       "\n",
       "That the training loss and validation loss stay fairly close is evidence that the model isn't just memorizing the training data, but rather learning general properties of the two classes. But, because this model converges at a loss greater than the VGG16 model, it's likely that it is underfitting some, and could benefit from some extra capacity.\n"
      ],
      "text/plain": [
       "Correct: \n",
       "\n",
       "That the training loss and validation loss stay fairly close is evidence that the model isn't just memorizing the training data, but rather learning general properties of the two classes. But, because this model converges at a loss greater than the VGG16 model, it's likely that it is underfitting some, and could benefit from some extra capacity."
      ]
     },
     "metadata": {},
     "output_type": "display_data"
    }
   ],
   "source": [
    "# View the solution (Run this code cell to receive credit!)\n",
    "q_4.check()"
   ]
  },
  {
   "cell_type": "markdown",
   "metadata": {},
   "source": [
    "# Conclusion #\n",
    "\n",
    "In this first lesson, you learned the basics of **convolutional image classifiers**, that they consist of a **base** for extracting features from images, and a **head** which uses the features to decide the image's class. You also saw how to build a classifier with **transfer learning** on pretrained base. "
   ]
  },
  {
   "cell_type": "markdown",
   "metadata": {},
   "source": [
    "# Keep Going #\n",
    "\n",
    "Move on to [**Lesson 2**](https://www.kaggle.com/ryanholbrook/convolution-and-relu) for a detailed look at how the base does this feature extraction. (It's really cool!)"
   ]
  },
  {
   "cell_type": "markdown",
   "metadata": {},
   "source": [
    "---\n",
    "\n",
    "\n",
    "\n",
    "\n",
    "*Have questions or comments? Visit the [Learn Discussion forum](https://www.kaggle.com/learn-forum/196537) to chat with other Learners.*"
   ]
  }
 ],
 "metadata": {
  "jupytext": {
   "formats": "ipynb,md",
   "split_at_heading": true
  },
  "kernelspec": {
   "display_name": "Python 3",
   "language": "python",
   "name": "python3"
  },
  "language_info": {
   "codemirror_mode": {
    "name": "ipython",
    "version": 3
   },
   "file_extension": ".py",
   "mimetype": "text/x-python",
   "name": "python",
   "nbconvert_exporter": "python",
   "pygments_lexer": "ipython3",
   "version": "3.7.6"
  }
 },
 "nbformat": 4,
 "nbformat_minor": 4
}
